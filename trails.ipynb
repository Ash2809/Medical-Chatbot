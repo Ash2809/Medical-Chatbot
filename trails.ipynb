{
 "cells": [
  {
   "cell_type": "code",
   "execution_count": 43,
   "metadata": {},
   "outputs": [],
   "source": [
    "from langchain import PromptTemplate\n",
    "from langchain.chains import RetrievalQA\n",
    "from langchain.embeddings import HuggingFaceEmbeddings\n",
    "from langchain.vectorstores import Pinecone\n",
    "from langchain.document_loaders import PyPDFLoader, DirectoryLoader\n",
    "from langchain.text_splitter import RecursiveCharacterTextSplitter\n",
    "from langchain.prompts import PromptTemplate\n",
    "from langchain.llms import CTransformers\n",
    "from langchain_pinecone import PineconeVectorStore\n",
    "# from pinecone import Pinecone"
   ]
  },
  {
   "cell_type": "code",
   "execution_count": 4,
   "metadata": {},
   "outputs": [],
   "source": [
    "PINECONE_API_KEY = \"de52f7a8-84a7-4dc0-bf34-a98394867b09\"\n",
    "PINECONE_API_ENV = \"gcp-starter\""
   ]
  },
  {
   "cell_type": "code",
   "execution_count": 5,
   "metadata": {},
   "outputs": [],
   "source": [
    "def load_pdf(data):\n",
    "    loader = DirectoryLoader(data,\n",
    "                    glob=\"*.pdf\",\n",
    "                    loader_cls=PyPDFLoader)\n",
    "    \n",
    "    documents = loader.load()\n",
    "\n",
    "    return documents"
   ]
  },
  {
   "cell_type": "code",
   "execution_count": 6,
   "metadata": {},
   "outputs": [],
   "source": [
    "extracted_data = load_pdf(\"data/\")\n"
   ]
  },
  {
   "cell_type": "code",
   "execution_count": 11,
   "metadata": {},
   "outputs": [],
   "source": [
    "#CREATE TEXT CHUNKS\n",
    "def text_split(extracted_data):\n",
    "    text_splitter = RecursiveCharacterTextSplitter(chunk_size = 500, chunk_overlap = 20)\n",
    "    text_chunks = text_splitter.split_documents(extracted_data)\n",
    "\n",
    "\n",
    "    return text_chunks"
   ]
  },
  {
   "cell_type": "code",
   "execution_count": 12,
   "metadata": {},
   "outputs": [
    {
     "data": {
      "text/plain": [
       "7020"
      ]
     },
     "execution_count": 12,
     "metadata": {},
     "output_type": "execute_result"
    }
   ],
   "source": [
    "text_chunks = text_split(extracted_data)\n",
    "len(text_chunks)"
   ]
  },
  {
   "cell_type": "code",
   "execution_count": 13,
   "metadata": {},
   "outputs": [
    {
     "name": "stderr",
     "output_type": "stream",
     "text": [
      "c:\\a\\envs\\mchatbot\\lib\\site-packages\\tqdm\\auto.py:21: TqdmWarning: IProgress not found. Please update jupyter and ipywidgets. See https://ipywidgets.readthedocs.io/en/stable/user_install.html\n",
      "  from .autonotebook import tqdm as notebook_tqdm\n"
     ]
    }
   ],
   "source": [
    "def download_hugging_face_embeddings():\n",
    "    embeddings = HuggingFaceEmbeddings(model_name=\"sentence-transformers/all-MiniLM-L6-v2\")\n",
    "    return embeddings\n",
    "embeddings = download_hugging_face_embeddings()"
   ]
  },
  {
   "cell_type": "code",
   "execution_count": 14,
   "metadata": {},
   "outputs": [
    {
     "name": "stdout",
     "output_type": "stream",
     "text": [
      "Length 384\n"
     ]
    }
   ],
   "source": [
    "query_result = embeddings.embed_query(\"Hello world\")\n",
    "print(\"Length\", len(query_result))"
   ]
  },
  {
   "cell_type": "code",
   "execution_count": 19,
   "metadata": {},
   "outputs": [],
   "source": [
    "PineconeVectorStore(index_name=\"medical-chatbot\",embedding=embeddings)\n",
    "\n",
    "vectorstore_from_docs = PineconeVectorStore.from_documents(\n",
    "    text_chunks,\n",
    "    index_name=\"medical-chatbot\",\n",
    "    embedding=embeddings\n",
    ")"
   ]
  },
  {
   "cell_type": "code",
   "execution_count": 48,
   "metadata": {},
   "outputs": [],
   "source": [
    "index_name=\"medical-chatbot\""
   ]
  },
  {
   "cell_type": "code",
   "execution_count": 50,
   "metadata": {},
   "outputs": [],
   "source": [
    "from pinecone import Pinecone\n",
    "pinecone = Pinecone(api_key=PINECONE_API_KEY)\n",
    "docsearch = pinecone.Index(\"medical-chatbot\",  \n",
    "                             host=\"https://medical-chatbot-uopezn2.svc.aped-4627-b74a.pinecone.io\")"
   ]
  },
  {
   "cell_type": "code",
   "execution_count": 58,
   "metadata": {},
   "outputs": [
    {
     "name": "stdout",
     "output_type": "stream",
     "text": [
      "[0.0181479062885046, -0.007762155495584011, 0.016550743952393532, -0.02258746139705181, 0.08301930129528046, 0.04213043674826622, 0.047391340136528015, 0.009959175251424313, -0.03739221394062042, 0.07155650854110718, 0.03732006996870041, -0.06228751689195633, 0.017921268939971924, 0.014870434068143368, -0.03633669391274452, 0.08066541701555252, -0.03342955559492111, -0.04579091817140579, -0.0021369094029068947, -0.05767637863755226, -0.014061135239899158, 0.09954631328582764, -0.008254189975559711, -0.005863500293344259, -0.051764920353889465, 0.06957108527421951, -0.037494052201509476, -0.09890787303447723, -0.05588379502296448, -0.03587564453482628, -0.04290857911109924, -0.02302694506943226, 0.0023226344492286444, 0.05676264315843582, -0.04027227684855461, 0.0024839621037244797, -0.08057361096143723, 0.020133905112743378, 0.02193741872906685, 0.007606524974107742, -0.026822227984666824, 0.02393314242362976, -0.06894033402204514, -0.037084147334098816, -0.07588567584753036, 0.0623273029923439, 0.056241411715745926, -0.0208908524364233, 0.08038843423128128, 0.00014490561443381011, 0.09531467407941818, -0.02206757478415966, 0.002271107630804181, -0.06285987794399261, 0.08738841116428375, -0.04804941639304161, -0.08824389427900314, -0.06510762125253677, -0.06143520027399063, -0.05081061273813248, -0.03920290619134903, 0.003602538025006652, 0.043736595660448074, 0.055077943950891495, 0.03471272438764572, -0.014871212653815746, 0.02708023600280285, 0.1265919804573059, 0.05242069438099861, -0.017189083620905876, -0.07710075378417969, -0.04332421347498894, -0.004481525160372257, 0.1128968670964241, 0.11050738394260406, -0.036001306027173996, -0.03486763685941696, -0.016994141042232513, 0.027640996500849724, 0.024546712636947632, -0.08060159534215927, -0.0475703701376915, 0.05116087943315506, -0.03091506101191044, 0.06125470995903015, -0.0023705598432570696, -0.04068839177489281, 0.05731312930583954, 0.07556596398353577, -0.021122463047504425, 0.015159675851464272, -0.08585575222969055, -0.044332489371299744, 0.07360154390335083, 0.03163568675518036, -0.001071474514901638, 0.041041888296604156, -0.025973863899707794, -0.024128491058945656, -0.018478652462363243, -0.009343167766928673, -0.13414427638053894, 0.04299972578883171, 0.022061701864004135, 0.06098156049847603, 0.042517587542533875, 0.04125852510333061, -0.14669470489025116, -0.011292979121208191, -0.02725354954600334, -0.028415311127901077, 0.030577149242162704, 0.007268176879733801, 0.0239984430372715, -0.06269849836826324, -0.04719022288918495, 0.07926412671804428, -0.05498788505792618, -0.0010344947222620249, 0.03707897290587425, -0.021630069240927696, -0.05743089318275452, -0.00011569647904252633, 0.045350126922130585, 0.03315438702702522, 0.029972326010465622, -0.08532204478979111, -4.156021623443631e-33, 0.013834500685334206, 0.04625223949551582, 0.01938687078654766, -0.005832814611494541, 0.0033287142869085073, 0.006583666428923607, 0.058359626680612564, -0.004797908011823893, 0.06747078150510788, 0.09598010778427124, -0.07126318663358688, 0.08342611789703369, -0.026850959286093712, 0.06880936771631241, 0.024755934253335, 0.005590276792645454, -0.0853826180100441, -0.0025928402319550514, 0.032499950379133224, -0.0747653916478157, -0.12219984084367752, 0.06340253353118896, -0.08369521051645279, 0.05359179899096489, -0.07090002298355103, 0.04762464389204979, 0.026450609788298607, -0.0022695474326610565, 0.007560510654002428, -0.04804478585720062, 0.006608515977859497, 0.02451973222196102, -0.039400164037942886, 0.027188116684556007, 0.00677639152854681, -0.03323965519666672, -0.02239801175892353, 0.08071514219045639, -0.022567981854081154, -0.022056013345718384, -0.06982944160699844, -0.0360543318092823, -0.05214190483093262, -0.03001481108367443, -0.02001769095659256, -0.008956635370850563, -0.13586591184139252, -0.007331766653805971, -0.03771720454096794, 0.017881808802485466, 0.06398405134677887, -0.11132768541574478, -0.02979857660830021, -0.004136545117944479, -0.04223258048295975, 0.03271228075027466, 0.051445621997117996, 0.023450834676623344, -0.0687641128897667, 0.07495353370904922, 0.023818323388695717, -0.022969549521803856, -0.031139317899942398, 0.004637644626200199, 0.03550297021865845, -0.008653456345200539, 0.007465144619345665, -0.03475672006607056, 0.006472158711403608, 0.00023080650134943426, 0.0376584567129612, -0.08238633722066879, 0.019721591845154762, 0.058791760355234146, -0.026685616001486778, -0.012456781230866909, -0.028177067637443542, 0.08493994176387787, -0.0038555695209652185, 0.018497735261917114, 0.040242407470941544, 0.05646532028913498, 0.03493018448352814, -0.015993129462003708, -0.07576512545347214, 0.010304604656994343, -0.029438864439725876, -0.03514526039361954, 0.047830551862716675, 0.00838653463870287, 0.051315296441316605, 0.09690606594085693, 0.0012857269030064344, -0.033703334629535675, -0.10248378664255142, -2.187437216367737e-36, -0.03510761260986328, -0.06669040769338608, 0.04345022141933441, 0.05944102257490158, -0.0014159113634377718, 0.06924865394830704, 0.03886790946125984, 0.0824693813920021, 0.07399819791316986, 0.0738593190908432, 0.027806589379906654, -0.024549957364797592, 0.07604566961526871, -0.045198291540145874, 0.011789810843765736, 0.056563328951597214, 0.01982205919921398, 0.07555633783340454, -0.08798134326934814, -0.010656098835170269, -0.022792352363467216, 0.0839458703994751, 0.035723693668842316, -0.048739805817604065, -0.01701097935438156, -0.01642278954386711, 0.013693097978830338, 0.01743876375257969, 0.03002055548131466, -0.026918763294816017, 0.06046288460493088, -0.0012859607813879848, 0.05973828583955765, 0.030433734878897667, 0.061777569353580475, -0.05351530387997627, -0.03135385364294052, 0.07988226413726807, -0.02052382007241249, -0.10210354626178741, -0.06846390664577484, -0.1047431156039238, 0.06553222239017487, 0.0745851993560791, 0.03849007189273834, 0.06369038671255112, -0.10078424215316772, -0.0776316225528717, -0.10116250813007355, 0.022721601650118828, -0.004907673690468073, -0.007863449864089489, 0.06778214126825333, -0.0266764834523201, -0.029227634891867638, 0.05282993242144585, 0.03558074310421944, -0.10847486555576324, 0.027393601834774017, -0.020926788449287415, 0.04024600237607956, -0.049231838434934616, -0.02572895586490631, -0.010797129012644291, -0.039053454995155334, 0.01854574680328369, -0.045551847666502, -0.09042125940322876, 0.03942328691482544, -0.015498447231948376, 0.05939323455095291, -0.047769516706466675, -0.14636215567588806, -0.04401426017284393, -0.019615715369582176, 0.023533882573246956, -0.03834312781691551, -0.006877018138766289, 0.031261589378118515, 0.004124883562326431, -0.09223303198814392, 0.015640005469322205, 0.08650385588407516, 0.03537291660904884, -0.0033087932970374823, -0.09069103002548218, 0.03667266294360161, 0.03751768916845322, 0.049691811203956604, -0.01830964908003807, 0.057872798293828964, -0.008629395626485348, -0.00380699522793293, 0.10269057750701904, 0.00449398485943675, -1.6173528294416428e-08, -0.006901517044752836, -0.07031644135713577, -0.03847113251686096, -0.03719479963183403, -0.05993856489658356, -0.02204790525138378, 0.03608090430498123, 0.06867492944002151, -0.015226808376610279, 0.008842761628329754, 0.01188562624156475, 0.029364638030529022, -0.05901151895523071, 0.014112045988440514, 0.0490378811955452, -0.013964077457785606, 0.026791108772158623, 0.06950365751981735, 0.008802688680589199, 0.03131746128201485, -0.03763652965426445, 0.02532007358968258, -0.005646571516990662, -0.048226531594991684, 0.05530596524477005, 0.016096197068691254, -0.018411973491311073, 0.05394239351153374, 0.10530546307563782, -0.04881119355559349, -0.0034164481330662966, -0.0231827013194561, -0.02584659494459629, -0.028588876128196716, -0.11622294783592224, 0.006353684235364199, 0.06965875625610352, -0.07046500593423843, 0.04903135076165199, 0.01617659255862236, -0.0060032326728105545, 0.011292497627437115, 0.0006352452328428626, 0.0105725834146142, -0.046911709010601044, -0.06512635201215744, -0.01788020320236683, -0.008850565180182457, 0.030048269778490067, 0.006534965708851814, -0.011438501067459583, 0.040402162820100784, -0.013921577483415604, -0.027993949130177498, -0.1231217309832573, -0.01362674031406641, -0.012799963355064392, 0.003432303201407194, 0.05008488520979881, -0.03417261689901352, 0.057262156158685684, 0.0025153153110295534, -0.043302662670612335, 0.09163086861371994]\n",
      "{'matches': [{'id': '99049211-6dca-4f4a-b057-d9bbd3146335',\n",
      "              'score': 0.682538748,\n",
      "              'values': []},\n",
      "             {'id': 'e3cae9f4-453a-4028-9f39-768b6cfbbce3',\n",
      "              'score': 0.678439736,\n",
      "              'values': []},\n",
      "             {'id': '9c69c822-8a2e-41c1-9c5e-4362ad2647b6',\n",
      "              'score': 0.677086592,\n",
      "              'values': []}],\n",
      " 'namespace': '',\n",
      " 'usage': {'read_units': 5}}\n"
     ]
    }
   ],
   "source": [
    "query = \"What are Allergies\"\n",
    "\n",
    "# Assuming 'embeddings.embed_query' generates the embedding for the query\n",
    "query_embedding = embeddings.embed_query(query)\n",
    "print(query_embedding)\n",
    "# Use keyword arguments for the query method\n",
    "results = docsearch.query(vector=query_embedding, top_k=3)\n",
    "\n",
    "print(results)\n"
   ]
  },
  {
   "cell_type": "code",
   "execution_count": null,
   "metadata": {},
   "outputs": [],
   "source": [
    "\n"
   ]
  },
  {
   "cell_type": "code",
   "execution_count": null,
   "metadata": {},
   "outputs": [],
   "source": []
  },
  {
   "cell_type": "code",
   "execution_count": 64,
   "metadata": {},
   "outputs": [
    {
     "data": {
      "text/plain": [
       "'TheGALE\\nENCYCLOPEDIA\\nofMEDICINE\\nSECOND EDITION'"
      ]
     },
     "execution_count": 64,
     "metadata": {},
     "output_type": "execute_result"
    }
   ],
   "source": [
    "text_chunks[0].page_content"
   ]
  },
  {
   "cell_type": "code",
   "execution_count": 70,
   "metadata": {},
   "outputs": [
    {
     "name": "stdout",
     "output_type": "stream",
     "text": [
      "Unexpected exception formatting exception. Falling back to standard exception\n"
     ]
    },
    {
     "name": "stderr",
     "output_type": "stream",
     "text": [
      "Traceback (most recent call last):\n",
      "  File \"c:\\a\\envs\\mchatbot\\lib\\site-packages\\IPython\\core\\interactiveshell.py\", line 3508, in run_code\n",
      "    exec(code_obj, self.user_global_ns, self.user_ns)\n",
      "  File \"C:\\Users\\aashutosh kumar\\AppData\\Local\\Temp\\ipykernel_21784\\1317682600.py\", line 4, in <module>\n",
      "    vectordb=Chroma.from_documents(documents=text_chunks,embedding=embeddings,persist_directory=persist_directory)\n",
      "  File \"c:\\a\\envs\\mchatbot\\lib\\site-packages\\langchain\\vectorstores\\chroma.py\", line 462, in from_documents\n",
      "  File \"c:\\a\\envs\\mchatbot\\lib\\site-packages\\langchain\\vectorstores\\chroma.py\", line 423, in from_texts\n",
      "  File \"c:\\a\\envs\\mchatbot\\lib\\site-packages\\langchain\\vectorstores\\chroma.py\", line 90, in __init__\n",
      "  File \"c:\\a\\envs\\mchatbot\\lib\\site-packages\\chromadb\\__init__.py\", line 334, in Client\n",
      "    return ClientCreator(tenant=tenant, database=database, settings=settings)\n",
      "  File \"c:\\a\\envs\\mchatbot\\lib\\site-packages\\chromadb\\api\\client.py\", line 55, in __init__\n",
      "    super().__init__(settings=settings)\n",
      "  File \"c:\\a\\envs\\mchatbot\\lib\\site-packages\\chromadb\\api\\shared_system_client.py\", line 19, in __init__\n",
      "    SharedSystemClient._create_system_if_not_exists(self._identifier, settings)\n",
      "  File \"c:\\a\\envs\\mchatbot\\lib\\site-packages\\chromadb\\api\\shared_system_client.py\", line 38, in _create_system_if_not_exists\n",
      "    raise ValueError(\n",
      "ValueError: An instance of Chroma already exists for ephemeral with different settings\n",
      "\n",
      "During handling of the above exception, another exception occurred:\n",
      "\n",
      "Traceback (most recent call last):\n",
      "  File \"c:\\a\\envs\\mchatbot\\lib\\site-packages\\IPython\\core\\interactiveshell.py\", line 2105, in showtraceback\n",
      "    stb = self.InteractiveTB.structured_traceback(\n",
      "  File \"c:\\a\\envs\\mchatbot\\lib\\site-packages\\IPython\\core\\ultratb.py\", line 1396, in structured_traceback\n",
      "    return FormattedTB.structured_traceback(\n",
      "  File \"c:\\a\\envs\\mchatbot\\lib\\site-packages\\IPython\\core\\ultratb.py\", line 1287, in structured_traceback\n",
      "    return VerboseTB.structured_traceback(\n",
      "  File \"c:\\a\\envs\\mchatbot\\lib\\site-packages\\IPython\\core\\ultratb.py\", line 1140, in structured_traceback\n",
      "    formatted_exception = self.format_exception_as_a_whole(etype, evalue, etb, number_of_lines_of_context,\n",
      "  File \"c:\\a\\envs\\mchatbot\\lib\\site-packages\\IPython\\core\\ultratb.py\", line 1055, in format_exception_as_a_whole\n",
      "    frames.append(self.format_record(record))\n",
      "  File \"c:\\a\\envs\\mchatbot\\lib\\site-packages\\IPython\\core\\ultratb.py\", line 955, in format_record\n",
      "    frame_info.lines, Colors, self.has_colors, lvals\n",
      "  File \"c:\\a\\envs\\mchatbot\\lib\\site-packages\\IPython\\core\\ultratb.py\", line 778, in lines\n",
      "    return self._sd.lines\n",
      "  File \"c:\\a\\envs\\mchatbot\\lib\\site-packages\\stack_data\\utils.py\", line 144, in cached_property_wrapper\n",
      "    value = obj.__dict__[self.func.__name__] = self.func(obj)\n",
      "  File \"c:\\a\\envs\\mchatbot\\lib\\site-packages\\stack_data\\core.py\", line 734, in lines\n",
      "    pieces = self.included_pieces\n",
      "  File \"c:\\a\\envs\\mchatbot\\lib\\site-packages\\stack_data\\utils.py\", line 144, in cached_property_wrapper\n",
      "    value = obj.__dict__[self.func.__name__] = self.func(obj)\n",
      "  File \"c:\\a\\envs\\mchatbot\\lib\\site-packages\\stack_data\\core.py\", line 681, in included_pieces\n",
      "    pos = scope_pieces.index(self.executing_piece)\n",
      "  File \"c:\\a\\envs\\mchatbot\\lib\\site-packages\\stack_data\\utils.py\", line 144, in cached_property_wrapper\n",
      "    value = obj.__dict__[self.func.__name__] = self.func(obj)\n",
      "  File \"c:\\a\\envs\\mchatbot\\lib\\site-packages\\stack_data\\core.py\", line 660, in executing_piece\n",
      "    return only(\n",
      "  File \"c:\\a\\envs\\mchatbot\\lib\\site-packages\\executing\\executing.py\", line 116, in only\n",
      "    raise NotOneValueFound('Expected one value, found 0')\n",
      "executing.executing.NotOneValueFound: Expected one value, found 0\n"
     ]
    }
   ],
   "source": [
    "from langchain.vectorstores import Chroma\n",
    "persist_directory=\"db\"\n",
    "\n",
    "vectordb=Chroma.from_documents(documents=text_chunks,embedding=embeddings,persist_directory=persist_directory)\n"
   ]
  },
  {
   "cell_type": "code",
   "execution_count": null,
   "metadata": {},
   "outputs": [],
   "source": []
  }
 ],
 "metadata": {
  "kernelspec": {
   "display_name": "mchatbot",
   "language": "python",
   "name": "python3"
  },
  "language_info": {
   "codemirror_mode": {
    "name": "ipython",
    "version": 3
   },
   "file_extension": ".py",
   "mimetype": "text/x-python",
   "name": "python",
   "nbconvert_exporter": "python",
   "pygments_lexer": "ipython3",
   "version": "3.8.19"
  }
 },
 "nbformat": 4,
 "nbformat_minor": 2
}
